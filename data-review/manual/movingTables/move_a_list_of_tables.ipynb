{
 "cells": [
  {
   "cell_type": "markdown",
   "metadata": {},
   "source": [
    "<img src=\"http://openenergy-platform.org/static/OEP_logo_2_no_text.svg\" alt=\"OpenEnergy Platform\" height=\"100\" width=\"100\"  align=\"left\"/>\n",
    "<img src=\"http://reiner-lemoine-institut.de//wp-content/uploads/2015/09/rlilogo.png\" alt=\"RLI\" height=\"100\" width=\"100\" align=\"right\"/>\n",
    "\n",
    "# Moving a table\n",
    "<br><br>\n",
    "\n"
   ]
  },
  {
   "cell_type": "code",
   "execution_count": null,
   "metadata": {},
   "outputs": [],
   "source": [
    "import getpass\n",
    "import oedialect\n",
    "import requests\n",
    "import json\n",
    "from sqlalchemy.orm import sessionmaker\n",
    "from IPython.core.display import HTML"
   ]
  },
  {
   "cell_type": "code",
   "execution_count": null,
   "metadata": {},
   "outputs": [],
   "source": [
    "# White spaces in the username are fine!\n",
    "OEP_URL = 'https://openenergy-platform.org'\n",
    "user = input('Enter OEP-username:')\n",
    "token = getpass.getpass('Token:')"
   ]
  },
  {
   "cell_type": "code",
   "execution_count": null,
   "metadata": {},
   "outputs": [],
   "source": [
    "table_list = [\n",
    "    'eu_leg_dim_parameter',\n",
    "    'eu_leg_data_2015_eio_ir_article23_t3',\n",
    "    'eu_leg_data_2016_eio_ir_article23_t3',\n",
    "    'eu_leg_data_2017_eio_ir_article23_t3',\n",
    "    'eu_leg_data_2018_eio_ir_article23_t3',\n",
    "    'eu_leg_data_2019_eio_ir_article23_t3',\n",
    "    'eu_leg_data_2020_eio_ir_article23_t3',\n",
    "    'eu_leg_data_2021_rep_table_3'\n",
    "]"
   ]
  },
  {
   "cell_type": "markdown",
   "metadata": {},
   "source": [
    "# Move Tables"
   ]
  },
  {
   "cell_type": "code",
   "execution_count": null,
   "metadata": {},
   "outputs": [],
   "source": [
    "def move_lot(lot, from_schema, to_schema):\n",
    "    for table in lot:\n",
    "        requests.post(\n",
    "            OEP_URL + '/api/v0/schema/' + from_schema + '/tables/' + table + '/move/' + to_schema + '/',\n",
    "            verify=False,\n",
    "            headers={'Authorization': 'Token {0}'.format(token)}\n",
    "        )"
   ]
  },
  {
   "cell_type": "code",
   "execution_count": null,
   "metadata": {
    "scrolled": true
   },
   "outputs": [],
   "source": [
    "move_lot(table_list, 'scenario', 'model_draft')"
   ]
  },
  {
   "cell_type": "code",
   "execution_count": null,
   "metadata": {},
   "outputs": [],
   "source": []
  }
 ],
 "metadata": {
  "kernelspec": {
   "display_name": "Python 3 (ipykernel)",
   "language": "python",
   "name": "python3"
  },
  "language_info": {
   "codemirror_mode": {
    "name": "ipython",
    "version": 3
   },
   "file_extension": ".py",
   "mimetype": "text/x-python",
   "name": "python",
   "nbconvert_exporter": "python",
   "pygments_lexer": "ipython3",
   "version": "3.8.12"
  }
 },
 "nbformat": 4,
 "nbformat_minor": 2
}
